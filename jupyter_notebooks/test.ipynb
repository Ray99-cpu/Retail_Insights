{
 "cells": [
  {
   "cell_type": "markdown",
   "id": "92f1ffc4",
   "metadata": {},
   "source": [
    "### The first step is to download the data from the Kaggle website. \n",
    "[This a description for the link](https://www.kaggle.com/datasets/manjeetsingh/retaildataset)\n"
   ]
  },
  {
   "cell_type": "code",
   "execution_count": 123,
   "id": "e2d60fff",
   "metadata": {},
   "outputs": [],
   "source": [
    "import pandas as pd\n",
    "import numpy as np\n",
    "import seaborn as sns\n",
    "import matplotlib.pyplot as plt\n"
   ]
  },
  {
   "cell_type": "code",
   "execution_count": null,
   "id": "fca1df85",
   "metadata": {},
   "outputs": [],
   "source": []
  }
 ],
 "metadata": {
  "kernelspec": {
   "display_name": ".venv",
   "language": "python",
   "name": "python3"
  },
  "language_info": {
   "codemirror_mode": {
    "name": "ipython",
    "version": 3
   },
   "file_extension": ".py",
   "mimetype": "text/x-python",
   "name": "python",
   "nbconvert_exporter": "python",
   "pygments_lexer": "ipython3",
   "version": "3.12.8"
  }
 },
 "nbformat": 4,
 "nbformat_minor": 5
}
